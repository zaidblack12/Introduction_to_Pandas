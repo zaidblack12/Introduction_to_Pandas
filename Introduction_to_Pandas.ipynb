{
 "cells": [
  {
   "cell_type": "markdown",
   "metadata": {},
   "source": [
    "## Introduction to Pandas"
   ]
  },
  {
   "cell_type": "markdown",
   "metadata": {},
   "source": [
    "#### This is an sample data learning the queries in Pandas"
   ]
  },
  {
   "cell_type": "code",
   "execution_count": null,
   "metadata": {},
   "outputs": [],
   "source": [
    "import pandas as pd\n",
    "\n",
    "df = pd.read_csv('employees.csv')\n",
    "\n",
    "print(df.head(10))"
   ]
  },
  {
   "cell_type": "markdown",
   "metadata": {},
   "source": [
    "#### How to select the column from the DataFrame\n",
    "\n",
    "##### print first name and Gender"
   ]
  },
  {
   "cell_type": "markdown",
   "metadata": {},
   "source": [
    "*syntax : pd.DataFrame(df, columns=['column1','column2'])*"
   ]
  },
  {
   "cell_type": "code",
   "execution_count": null,
   "metadata": {},
   "outputs": [],
   "source": [
    "x = pd.DataFrame(df, columns=['First_Name', 'Gender'])\n",
    "print(x)"
   ]
  },
  {
   "cell_type": "markdown",
   "metadata": {},
   "source": [
    "#### Get the Size of a DataFrame\n",
    "##### print the no of rows and column in this array [number of rows, number of columns]"
   ]
  },
  {
   "cell_type": "code",
   "execution_count": null,
   "metadata": {},
   "outputs": [],
   "source": [
    "num_rows , num_columns = df.shape\n",
    "\n",
    "print(num_rows, num_columns)"
   ]
  },
  {
   "cell_type": "markdown",
   "metadata": {},
   "source": [
    "### Display the first three rows"
   ]
  },
  {
   "cell_type": "code",
   "execution_count": null,
   "metadata": {},
   "outputs": [],
   "source": [
    "print(df.head(3))"
   ]
  },
  {
   "cell_type": "markdown",
   "metadata": {},
   "source": [
    "### Select the Data\n",
    "#### print the First_name and Salary where Gender = Male"
   ]
  },
  {
   "cell_type": "code",
   "execution_count": null,
   "metadata": {},
   "outputs": [],
   "source": [
    "x = df[df['Gender'] == 'Male'][['First_Name', 'Salary']]\n",
    "\n",
    "print(x)"
   ]
  },
  {
   "cell_type": "markdown",
   "metadata": {},
   "source": [
    "#### Create a New Column\n",
    "##### Create a New Column of salary * 2 with Bonus"
   ]
  },
  {
   "cell_type": "code",
   "execution_count": null,
   "metadata": {},
   "outputs": [],
   "source": [
    "df['Bonus'] = df['Salary']*2\n",
    "\n",
    "print(df)"
   ]
  },
  {
   "cell_type": "markdown",
   "metadata": {},
   "source": [
    "#### Drop Duplicate Rows\n",
    "\n",
    "##### Drop duplicate rows on First_Name and keep the first record\n"
   ]
  },
  {
   "cell_type": "code",
   "execution_count": null,
   "metadata": {},
   "outputs": [],
   "source": [
    "print(df.drop_duplicates(['First_Name'], keep='first'))\n",
    "\n"
   ]
  },
  {
   "cell_type": "markdown",
   "metadata": {},
   "source": [
    "#### Drop missing Data\n",
    "##### Drop the missing data in the First_Name"
   ]
  },
  {
   "cell_type": "code",
   "execution_count": null,
   "metadata": {},
   "outputs": [],
   "source": [
    "print(df.dropna(subset='First_Name'))"
   ]
  },
  {
   "cell_type": "markdown",
   "metadata": {},
   "source": [
    "#### Modify Column\n",
    "##### Modify the Salary Column"
   ]
  },
  {
   "cell_type": "code",
   "execution_count": null,
   "metadata": {},
   "outputs": [],
   "source": [
    "df['Salary'] = df['Salary']*2\n",
    "\n",
    "print(df)"
   ]
  },
  {
   "cell_type": "markdown",
   "metadata": {},
   "source": [
    "#### Rename Colums\n",
    "##### Rename the First_Name to Name column"
   ]
  },
  {
   "cell_type": "code",
   "execution_count": null,
   "metadata": {},
   "outputs": [],
   "source": [
    "print(df.rename(columns={'First_Name': 'Name'}))"
   ]
  },
  {
   "cell_type": "markdown",
   "metadata": {},
   "source": [
    "#### Change the Data Type\n",
    "##### Change the Bonus Data Type float to int\n"
   ]
  },
  {
   "cell_type": "code",
   "execution_count": null,
   "metadata": {},
   "outputs": [],
   "source": [
    "df['Bonus'] = df['Bonus'].astype(int)\n",
    "\n",
    "print(df)"
   ]
  },
  {
   "cell_type": "markdown",
   "metadata": {},
   "source": [
    "#### Fill the Missing Data\n",
    "#### Fill the missing data with 0 in Salary\n"
   ]
  },
  {
   "cell_type": "code",
   "execution_count": null,
   "metadata": {},
   "outputs": [],
   "source": [
    "df['Salary'].fillna(0, inplace=True)\n",
    "\n",
    "print(df)"
   ]
  },
  {
   "cell_type": "markdown",
   "metadata": {},
   "source": [
    "#### Reshape Data: Concatenate\n",
    "##### Join the two DataFrame Vertically"
   ]
  },
  {
   "cell_type": "code",
   "execution_count": null,
   "metadata": {},
   "outputs": [],
   "source": [
    "# Sample DataFrames\n",
    "df1 = pd.DataFrame({\n",
    "    'student_id': [1, 2, 3, 4],\n",
    "    'name': ['Mason', 'Ava', 'Taylor', 'Georgia'],\n",
    "    'age': [8, 6, 15, 17]\n",
    "})\n",
    "\n",
    "df2 = pd.DataFrame({\n",
    "    'student_id': [5, 6],\n",
    "    'name': ['Leo', 'Alex'],\n",
    "    'age': [7, 7]\n",
    "})\n",
    "\n",
    "# Concatenating DataFrames\n",
    "result = pd.concat([df1, df2], ignore_index=True)\n",
    "\n",
    "# Display the result\n",
    "print(result)"
   ]
  },
  {
   "cell_type": "markdown",
   "metadata": {},
   "source": [
    "#### Reshape Data: Pivot"
   ]
  },
  {
   "cell_type": "code",
   "execution_count": null,
   "metadata": {},
   "outputs": [],
   "source": [
    "\n",
    "# Sample DataFrame\n",
    "data = {\n",
    "    'city': ['Jacksonville', 'Jacksonville', 'Jacksonville', 'Jacksonville', 'Jacksonville',\n",
    "             'ElPaso', 'ElPaso', 'ElPaso', 'ElPaso', 'ElPaso'],\n",
    "    'month': ['January', 'February', 'March', 'April', 'May',\n",
    "              'January', 'February', 'March', 'April', 'May'],\n",
    "    'temperature': [13, 23, 38, 5, 34, 20, 6, 26, 2, 43]\n",
    "}\n",
    "\n",
    "weather = pd.DataFrame(data)\n",
    "\n",
    "# Pivot the DataFrame\n",
    "pivoted_weather = weather.pivot(index='month', columns='city', values='temperature')\n",
    "\n",
    "# Resetting the index to match the expected output format\n",
    "pivoted_weather = pivoted_weather.reset_index()\n",
    "\n",
    "# Display the result\n",
    "print(pivoted_weather)"
   ]
  },
  {
   "cell_type": "markdown",
   "metadata": {},
   "source": [
    "#### Reshape Data : Melt"
   ]
  },
  {
   "cell_type": "code",
   "execution_count": null,
   "metadata": {},
   "outputs": [],
   "source": [
    "# Sample DataFrame\n",
    "data = {\n",
    "    'product': ['Umbrella', 'SleepingBag'],\n",
    "    'quarter_1': [417, 800],\n",
    "    'quarter_2': [224, 936],\n",
    "    'quarter_3': [379, 93],\n",
    "    'quarter_4': [611, 875]\n",
    "}\n",
    "\n",
    "report = pd.DataFrame(data)\n",
    "\n",
    "# Reshaping the DataFrame using melt\n",
    "reshaped_report = pd.melt(report, id_vars=['product'], \n",
    "                          value_vars=['quarter_1', 'quarter_2', 'quarter_3', 'quarter_4'],\n",
    "                          var_name='quarter', value_name='sales')\n",
    "\n",
    "# Display the result\n",
    "print(reshaped_report)"
   ]
  },
  {
   "cell_type": "markdown",
   "metadata": {},
   "source": [
    "#### Method Chaining\n",
    "\n",
    "##### display the First_Name with salary more than 250000 and sort by descending"
   ]
  },
  {
   "cell_type": "code",
   "execution_count": null,
   "metadata": {},
   "outputs": [],
   "source": [
    "print(df[df['Salary'] > 250000].sort_values(by='Salary', ascending=False)[['First_Name']])"
   ]
  }
 ],
 "metadata": {
  "kernelspec": {
   "display_name": "Python 3",
   "language": "python",
   "name": "python3"
  },
  "language_info": {
   "codemirror_mode": {
    "name": "ipython",
    "version": 3
   },
   "file_extension": ".py",
   "mimetype": "text/x-python",
   "name": "python",
   "nbconvert_exporter": "python",
   "pygments_lexer": "ipython3",
   "version": "3.12.5"
  }
 },
 "nbformat": 4,
 "nbformat_minor": 2
}
