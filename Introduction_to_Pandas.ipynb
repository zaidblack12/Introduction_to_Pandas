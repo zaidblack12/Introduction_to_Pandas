{
 "cells": [
  {
   "cell_type": "markdown",
   "metadata": {},
   "source": [
    "## Introduction to Pandas"
   ]
  },
  {
   "cell_type": "markdown",
   "metadata": {},
   "source": [
    "#### This is an sample data learning the queries in Pandas"
   ]
  },
  {
   "cell_type": "code",
   "execution_count": 3,
   "metadata": {},
   "outputs": [
    {
     "name": "stdout",
     "output_type": "stream",
     "text": [
      "  First_Name  Gender  Start_Date Last_Login Time  Salary  Bonus %  \\\n",
      "0    Douglas    Male    8/6/1993        12:42 PM   97308    6.945   \n",
      "1     Thomas    Male   3/31/1996         6:53 AM   61933    4.170   \n",
      "2      Maria  Female   4/23/1993        11:17 AM  130590   11.858   \n",
      "3      Jerry    Male    3/4/2005         1:00 PM  138705    9.340   \n",
      "4      Larry    Male   1/24/1998         4:47 PM  101004    1.389   \n",
      "5     Dennis    Male   4/18/1987         1:35 AM  115163   10.125   \n",
      "6       Ruby  Female   8/17/1987         4:20 PM   65476   10.012   \n",
      "7        NaN  Female   7/20/2015        10:43 AM   45906   11.598   \n",
      "8     Angela  Female  11/22/2005         6:29 AM   95570   18.523   \n",
      "9    Frances  Female    8/8/2002         6:51 AM  139852    7.524   \n",
      "\n",
      "  Senior_Management                  Team  \n",
      "0              True             Marketing  \n",
      "1              True                   NaN  \n",
      "2             False               Finance  \n",
      "3              True               Finance  \n",
      "4              True       Client Services  \n",
      "5             False                 Legal  \n",
      "6              True               Product  \n",
      "7               NaN               Finance  \n",
      "8              True           Engineering  \n",
      "9              True  Business Development  \n"
     ]
    }
   ],
   "source": [
    "import pandas as pd\n",
    "\n",
    "df = pd.read_csv('employees.csv')\n",
    "\n",
    "print(df.head(10))"
   ]
  },
  {
   "cell_type": "markdown",
   "metadata": {},
   "source": [
    "#### How to select the column from the DataFrame\n",
    "\n",
    "##### print first name and Gender"
   ]
  },
  {
   "cell_type": "markdown",
   "metadata": {},
   "source": [
    "*syntax : pd.DataFrame(df, columns=['column1','column2'])*"
   ]
  },
  {
   "cell_type": "code",
   "execution_count": 9,
   "metadata": {},
   "outputs": [
    {
     "name": "stdout",
     "output_type": "stream",
     "text": [
      "    First_Name  Gender\n",
      "0      Douglas    Male\n",
      "1       Thomas    Male\n",
      "2        Maria  Female\n",
      "3        Jerry    Male\n",
      "4        Larry    Male\n",
      "..         ...     ...\n",
      "995      Henry     NaN\n",
      "996    Phillip    Male\n",
      "997    Russell    Male\n",
      "998      Larry    Male\n",
      "999     Albert    Male\n",
      "\n",
      "[1000 rows x 2 columns]\n"
     ]
    }
   ],
   "source": [
    "x = pd.DataFrame(df, columns=['First_Name', 'Gender'])\n",
    "print(x)"
   ]
  },
  {
   "cell_type": "markdown",
   "metadata": {},
   "source": [
    "#### Get the Size of a DataFrame\n",
    "##### print the no of rows and column in this array [number of rows, number of columns]"
   ]
  },
  {
   "cell_type": "code",
   "execution_count": 11,
   "metadata": {},
   "outputs": [
    {
     "name": "stdout",
     "output_type": "stream",
     "text": [
      "1000 8\n"
     ]
    }
   ],
   "source": [
    "num_rows , num_columns = df.shape\n",
    "\n",
    "print(num_rows, num_columns)"
   ]
  },
  {
   "cell_type": "markdown",
   "metadata": {},
   "source": [
    "### Display the first three rows"
   ]
  },
  {
   "cell_type": "code",
   "execution_count": 12,
   "metadata": {},
   "outputs": [
    {
     "name": "stdout",
     "output_type": "stream",
     "text": [
      "  First_Name  Gender Start_Date Last_Login Time  Salary  Bonus %  \\\n",
      "0    Douglas    Male   8/6/1993        12:42 PM   97308    6.945   \n",
      "1     Thomas    Male  3/31/1996         6:53 AM   61933    4.170   \n",
      "2      Maria  Female  4/23/1993        11:17 AM  130590   11.858   \n",
      "\n",
      "  Senior_Management       Team  \n",
      "0              True  Marketing  \n",
      "1              True        NaN  \n",
      "2             False    Finance  \n"
     ]
    }
   ],
   "source": [
    "print(df.head(3))"
   ]
  },
  {
   "cell_type": "markdown",
   "metadata": {},
   "source": [
    "### Select the Data\n",
    "#### print the First_name and Salary where Gender = Male"
   ]
  },
  {
   "cell_type": "code",
   "execution_count": 24,
   "metadata": {},
   "outputs": [
    {
     "name": "stdout",
     "output_type": "stream",
     "text": [
      "    First_Name  Salary\n",
      "0      Douglas   97308\n",
      "1       Thomas   61933\n",
      "3        Jerry  138705\n",
      "4        Larry  101004\n",
      "5       Dennis  115163\n",
      "..         ...     ...\n",
      "994     George   98874\n",
      "996    Phillip   42392\n",
      "997    Russell   96914\n",
      "998      Larry   60500\n",
      "999     Albert  129949\n",
      "\n",
      "[424 rows x 2 columns]\n"
     ]
    }
   ],
   "source": [
    "x = df[df['Gender'] == 'Male'][['First_Name', 'Salary']]\n",
    "\n",
    "print(x)"
   ]
  },
  {
   "cell_type": "markdown",
   "metadata": {},
   "source": [
    "#### Create a New Column\n",
    "##### Create a New Column of salary * 2 with Bonus"
   ]
  },
  {
   "cell_type": "code",
   "execution_count": 25,
   "metadata": {},
   "outputs": [
    {
     "name": "stdout",
     "output_type": "stream",
     "text": [
      "    First_Name  Gender  Start_Date Last_Login Time  Salary  Bonus %  \\\n",
      "0      Douglas    Male    8/6/1993        12:42 PM   97308    6.945   \n",
      "1       Thomas    Male   3/31/1996         6:53 AM   61933    4.170   \n",
      "2        Maria  Female   4/23/1993        11:17 AM  130590   11.858   \n",
      "3        Jerry    Male    3/4/2005         1:00 PM  138705    9.340   \n",
      "4        Larry    Male   1/24/1998         4:47 PM  101004    1.389   \n",
      "..         ...     ...         ...             ...     ...      ...   \n",
      "995      Henry     NaN  11/23/2014         6:09 AM  132483   16.655   \n",
      "996    Phillip    Male   1/31/1984         6:30 AM   42392   19.675   \n",
      "997    Russell    Male   5/20/2013        12:39 PM   96914    1.421   \n",
      "998      Larry    Male   4/20/2013         4:45 PM   60500   11.985   \n",
      "999     Albert    Male   5/15/2012         6:24 PM  129949   10.169   \n",
      "\n",
      "    Senior_Management                  Team   Bonus  \n",
      "0                True             Marketing  194616  \n",
      "1                True                   NaN  123866  \n",
      "2               False               Finance  261180  \n",
      "3                True               Finance  277410  \n",
      "4                True       Client Services  202008  \n",
      "..                ...                   ...     ...  \n",
      "995             False          Distribution  264966  \n",
      "996             False               Finance   84784  \n",
      "997             False               Product  193828  \n",
      "998             False  Business Development  121000  \n",
      "999              True                 Sales  259898  \n",
      "\n",
      "[1000 rows x 9 columns]\n"
     ]
    }
   ],
   "source": [
    "df['Bonus'] = df['Salary']*2\n",
    "\n",
    "print(df)"
   ]
  },
  {
   "cell_type": "markdown",
   "metadata": {},
   "source": [
    "#### Drop Duplicate Rows\n",
    "\n",
    "##### Drop duplicate rows on First_Name and keep the first record\n"
   ]
  },
  {
   "cell_type": "code",
   "execution_count": 31,
   "metadata": {},
   "outputs": [
    {
     "name": "stdout",
     "output_type": "stream",
     "text": [
      "    First_Name  Gender  Start_Date Last_Login Time  Salary  Bonus %  \\\n",
      "0      Douglas    Male    8/6/1993        12:42 PM   97308    6.945   \n",
      "1       Thomas    Male   3/31/1996         6:53 AM   61933    4.170   \n",
      "2        Maria  Female   4/23/1993        11:17 AM  130590   11.858   \n",
      "3        Jerry    Male    3/4/2005         1:00 PM  138705    9.340   \n",
      "4        Larry    Male   1/24/1998         4:47 PM  101004    1.389   \n",
      "..         ...     ...         ...             ...     ...      ...   \n",
      "712     Martin     NaN    2/6/2001         4:17 AM  123963   15.745   \n",
      "749      Janet     NaN   1/25/1986         5:48 AM   85789    9.712   \n",
      "832      Keith    Male   2/12/2003         3:02 PM  120672   19.467   \n",
      "855    Phillip     NaN  10/20/2003        11:09 AM   89700    2.277   \n",
      "887      David    Male   12/5/2009         8:48 AM   92242   15.407   \n",
      "\n",
      "    Senior_Management             Team   Bonus  \n",
      "0                True        Marketing  194616  \n",
      "1                True              NaN  123866  \n",
      "2               False          Finance  261180  \n",
      "3                True          Finance  277410  \n",
      "4                True  Client Services  202008  \n",
      "..                ...              ...     ...  \n",
      "712              True      Engineering  247926  \n",
      "749             False            Legal  171578  \n",
      "832             False            Legal  241344  \n",
      "855              True              NaN  179400  \n",
      "887             False            Legal  184484  \n",
      "\n",
      "[201 rows x 9 columns]\n"
     ]
    }
   ],
   "source": [
    "print(df.drop_duplicates(['First_Name'], keep='first'))\n",
    "\n"
   ]
  },
  {
   "cell_type": "markdown",
   "metadata": {},
   "source": [
    "#### Drop missing Data\n",
    "##### Drop the missing data in the First_Name"
   ]
  },
  {
   "cell_type": "code",
   "execution_count": 33,
   "metadata": {},
   "outputs": [
    {
     "name": "stdout",
     "output_type": "stream",
     "text": [
      "    First_Name  Gender  Start_Date Last_Login Time  Salary  Bonus %  \\\n",
      "0      Douglas    Male    8/6/1993        12:42 PM   97308    6.945   \n",
      "1       Thomas    Male   3/31/1996         6:53 AM   61933    4.170   \n",
      "2        Maria  Female   4/23/1993        11:17 AM  130590   11.858   \n",
      "3        Jerry    Male    3/4/2005         1:00 PM  138705    9.340   \n",
      "4        Larry    Male   1/24/1998         4:47 PM  101004    1.389   \n",
      "..         ...     ...         ...             ...     ...      ...   \n",
      "995      Henry     NaN  11/23/2014         6:09 AM  132483   16.655   \n",
      "996    Phillip    Male   1/31/1984         6:30 AM   42392   19.675   \n",
      "997    Russell    Male   5/20/2013        12:39 PM   96914    1.421   \n",
      "998      Larry    Male   4/20/2013         4:45 PM   60500   11.985   \n",
      "999     Albert    Male   5/15/2012         6:24 PM  129949   10.169   \n",
      "\n",
      "    Senior_Management                  Team   Bonus  \n",
      "0                True             Marketing  194616  \n",
      "1                True                   NaN  123866  \n",
      "2               False               Finance  261180  \n",
      "3                True               Finance  277410  \n",
      "4                True       Client Services  202008  \n",
      "..                ...                   ...     ...  \n",
      "995             False          Distribution  264966  \n",
      "996             False               Finance   84784  \n",
      "997             False               Product  193828  \n",
      "998             False  Business Development  121000  \n",
      "999              True                 Sales  259898  \n",
      "\n",
      "[933 rows x 9 columns]\n"
     ]
    }
   ],
   "source": [
    "print(df.dropna(subset='First_Name'))"
   ]
  },
  {
   "cell_type": "markdown",
   "metadata": {},
   "source": [
    "#### Modify Column\n",
    "##### Modify the Salary Column"
   ]
  },
  {
   "cell_type": "code",
   "execution_count": 34,
   "metadata": {},
   "outputs": [
    {
     "name": "stdout",
     "output_type": "stream",
     "text": [
      "    First_Name  Gender  Start_Date Last_Login Time  Salary  Bonus %  \\\n",
      "0      Douglas    Male    8/6/1993        12:42 PM  194616    6.945   \n",
      "1       Thomas    Male   3/31/1996         6:53 AM  123866    4.170   \n",
      "2        Maria  Female   4/23/1993        11:17 AM  261180   11.858   \n",
      "3        Jerry    Male    3/4/2005         1:00 PM  277410    9.340   \n",
      "4        Larry    Male   1/24/1998         4:47 PM  202008    1.389   \n",
      "..         ...     ...         ...             ...     ...      ...   \n",
      "995      Henry     NaN  11/23/2014         6:09 AM  264966   16.655   \n",
      "996    Phillip    Male   1/31/1984         6:30 AM   84784   19.675   \n",
      "997    Russell    Male   5/20/2013        12:39 PM  193828    1.421   \n",
      "998      Larry    Male   4/20/2013         4:45 PM  121000   11.985   \n",
      "999     Albert    Male   5/15/2012         6:24 PM  259898   10.169   \n",
      "\n",
      "    Senior_Management                  Team   Bonus  \n",
      "0                True             Marketing  194616  \n",
      "1                True                   NaN  123866  \n",
      "2               False               Finance  261180  \n",
      "3                True               Finance  277410  \n",
      "4                True       Client Services  202008  \n",
      "..                ...                   ...     ...  \n",
      "995             False          Distribution  264966  \n",
      "996             False               Finance   84784  \n",
      "997             False               Product  193828  \n",
      "998             False  Business Development  121000  \n",
      "999              True                 Sales  259898  \n",
      "\n",
      "[1000 rows x 9 columns]\n"
     ]
    }
   ],
   "source": [
    "df['Salary'] = df['Salary']*2\n",
    "\n",
    "print(df)"
   ]
  },
  {
   "cell_type": "markdown",
   "metadata": {},
   "source": [
    "#### Rename Colums\n",
    "##### Rename the First_Name to Name column"
   ]
  },
  {
   "cell_type": "code",
   "execution_count": 36,
   "metadata": {},
   "outputs": [
    {
     "name": "stdout",
     "output_type": "stream",
     "text": [
      "        Name  Gender  Start_Date Last_Login Time  Salary  Bonus %  \\\n",
      "0    Douglas    Male    8/6/1993        12:42 PM  194616    6.945   \n",
      "1     Thomas    Male   3/31/1996         6:53 AM  123866    4.170   \n",
      "2      Maria  Female   4/23/1993        11:17 AM  261180   11.858   \n",
      "3      Jerry    Male    3/4/2005         1:00 PM  277410    9.340   \n",
      "4      Larry    Male   1/24/1998         4:47 PM  202008    1.389   \n",
      "..       ...     ...         ...             ...     ...      ...   \n",
      "995    Henry     NaN  11/23/2014         6:09 AM  264966   16.655   \n",
      "996  Phillip    Male   1/31/1984         6:30 AM   84784   19.675   \n",
      "997  Russell    Male   5/20/2013        12:39 PM  193828    1.421   \n",
      "998    Larry    Male   4/20/2013         4:45 PM  121000   11.985   \n",
      "999   Albert    Male   5/15/2012         6:24 PM  259898   10.169   \n",
      "\n",
      "    Senior_Management                  Team   Bonus  \n",
      "0                True             Marketing  194616  \n",
      "1                True                   NaN  123866  \n",
      "2               False               Finance  261180  \n",
      "3                True               Finance  277410  \n",
      "4                True       Client Services  202008  \n",
      "..                ...                   ...     ...  \n",
      "995             False          Distribution  264966  \n",
      "996             False               Finance   84784  \n",
      "997             False               Product  193828  \n",
      "998             False  Business Development  121000  \n",
      "999              True                 Sales  259898  \n",
      "\n",
      "[1000 rows x 9 columns]\n"
     ]
    }
   ],
   "source": [
    "print(df.rename(columns={'First_Name': 'Name'}))"
   ]
  },
  {
   "cell_type": "markdown",
   "metadata": {},
   "source": [
    "#### Change the Data Type\n",
    "##### Change the Bonus Data Type float to int\n"
   ]
  },
  {
   "cell_type": "code",
   "execution_count": 41,
   "metadata": {},
   "outputs": [
    {
     "name": "stdout",
     "output_type": "stream",
     "text": [
      "    First_Name  Gender  Start_Date Last_Login Time  Salary  Bonus %  \\\n",
      "0      Douglas    Male    8/6/1993        12:42 PM  194616    6.945   \n",
      "1       Thomas    Male   3/31/1996         6:53 AM  123866    4.170   \n",
      "2        Maria  Female   4/23/1993        11:17 AM  261180   11.858   \n",
      "3        Jerry    Male    3/4/2005         1:00 PM  277410    9.340   \n",
      "4        Larry    Male   1/24/1998         4:47 PM  202008    1.389   \n",
      "..         ...     ...         ...             ...     ...      ...   \n",
      "995      Henry     NaN  11/23/2014         6:09 AM  264966   16.655   \n",
      "996    Phillip    Male   1/31/1984         6:30 AM   84784   19.675   \n",
      "997    Russell    Male   5/20/2013        12:39 PM  193828    1.421   \n",
      "998      Larry    Male   4/20/2013         4:45 PM  121000   11.985   \n",
      "999     Albert    Male   5/15/2012         6:24 PM  259898   10.169   \n",
      "\n",
      "    Senior_Management                  Team   Bonus  \n",
      "0                True             Marketing  194616  \n",
      "1                True                   NaN  123866  \n",
      "2               False               Finance  261180  \n",
      "3                True               Finance  277410  \n",
      "4                True       Client Services  202008  \n",
      "..                ...                   ...     ...  \n",
      "995             False          Distribution  264966  \n",
      "996             False               Finance   84784  \n",
      "997             False               Product  193828  \n",
      "998             False  Business Development  121000  \n",
      "999              True                 Sales  259898  \n",
      "\n",
      "[1000 rows x 9 columns]\n"
     ]
    }
   ],
   "source": [
    "df['Bonus'] = df['Bonus'].astype(int)\n",
    "\n",
    "print(df)"
   ]
  },
  {
   "cell_type": "markdown",
   "metadata": {},
   "source": [
    "#### Fill the Missing Data\n",
    "#### Fill the missing data with 0 in Salary\n"
   ]
  },
  {
   "cell_type": "code",
   "execution_count": 46,
   "metadata": {},
   "outputs": [
    {
     "name": "stdout",
     "output_type": "stream",
     "text": [
      "    First_Name  Gender  Start_Date Last_Login Time  Salary  Bonus %  \\\n",
      "0      Douglas    Male    8/6/1993        12:42 PM  194616    6.945   \n",
      "1       Thomas    Male   3/31/1996         6:53 AM  123866    4.170   \n",
      "2        Maria  Female   4/23/1993        11:17 AM  261180   11.858   \n",
      "3        Jerry    Male    3/4/2005         1:00 PM  277410    9.340   \n",
      "4        Larry    Male   1/24/1998         4:47 PM  202008    1.389   \n",
      "..         ...     ...         ...             ...     ...      ...   \n",
      "995      Henry     NaN  11/23/2014         6:09 AM  264966   16.655   \n",
      "996    Phillip    Male   1/31/1984         6:30 AM   84784   19.675   \n",
      "997    Russell    Male   5/20/2013        12:39 PM  193828    1.421   \n",
      "998      Larry    Male   4/20/2013         4:45 PM  121000   11.985   \n",
      "999     Albert    Male   5/15/2012         6:24 PM  259898   10.169   \n",
      "\n",
      "    Senior_Management                  Team   Bonus  \n",
      "0                True             Marketing  194616  \n",
      "1                True                   NaN  123866  \n",
      "2               False               Finance  261180  \n",
      "3                True               Finance  277410  \n",
      "4                True       Client Services  202008  \n",
      "..                ...                   ...     ...  \n",
      "995             False          Distribution  264966  \n",
      "996             False               Finance   84784  \n",
      "997             False               Product  193828  \n",
      "998             False  Business Development  121000  \n",
      "999              True                 Sales  259898  \n",
      "\n",
      "[1000 rows x 9 columns]\n"
     ]
    },
    {
     "name": "stderr",
     "output_type": "stream",
     "text": [
      "C:\\Users\\Zaidb\\AppData\\Local\\Temp\\ipykernel_6060\\2688957846.py:1: FutureWarning: A value is trying to be set on a copy of a DataFrame or Series through chained assignment using an inplace method.\n",
      "The behavior will change in pandas 3.0. This inplace method will never work because the intermediate object on which we are setting values always behaves as a copy.\n",
      "\n",
      "For example, when doing 'df[col].method(value, inplace=True)', try using 'df.method({col: value}, inplace=True)' or df[col] = df[col].method(value) instead, to perform the operation inplace on the original object.\n",
      "\n",
      "\n",
      "  df['Salary'].fillna(0, inplace=True)\n"
     ]
    }
   ],
   "source": [
    "df['Salary'].fillna(0, inplace=True)\n",
    "\n",
    "print(df)"
   ]
  },
  {
   "cell_type": "markdown",
   "metadata": {},
   "source": [
    "#### Reshape Data: Concatenate\n",
    "##### Join the two DataFrame Vertically"
   ]
  },
  {
   "cell_type": "code",
   "execution_count": 47,
   "metadata": {},
   "outputs": [
    {
     "name": "stdout",
     "output_type": "stream",
     "text": [
      "   student_id     name  age\n",
      "0           1    Mason    8\n",
      "1           2      Ava    6\n",
      "2           3   Taylor   15\n",
      "3           4  Georgia   17\n",
      "4           5      Leo    7\n",
      "5           6     Alex    7\n"
     ]
    }
   ],
   "source": [
    "# Sample DataFrames\n",
    "df1 = pd.DataFrame({\n",
    "    'student_id': [1, 2, 3, 4],\n",
    "    'name': ['Mason', 'Ava', 'Taylor', 'Georgia'],\n",
    "    'age': [8, 6, 15, 17]\n",
    "})\n",
    "\n",
    "df2 = pd.DataFrame({\n",
    "    'student_id': [5, 6],\n",
    "    'name': ['Leo', 'Alex'],\n",
    "    'age': [7, 7]\n",
    "})\n",
    "\n",
    "# Concatenating DataFrames\n",
    "result = pd.concat([df1, df2], ignore_index=True)\n",
    "\n",
    "# Display the result\n",
    "print(result)"
   ]
  },
  {
   "cell_type": "markdown",
   "metadata": {},
   "source": [
    "#### Reshape Data: Pivot"
   ]
  },
  {
   "cell_type": "code",
   "execution_count": 50,
   "metadata": {},
   "outputs": [
    {
     "name": "stdout",
     "output_type": "stream",
     "text": [
      "city     month  ElPaso  Jacksonville\n",
      "0        April       2             5\n",
      "1     February       6            23\n",
      "2      January      20            13\n",
      "3        March      26            38\n",
      "4          May      43            34\n"
     ]
    }
   ],
   "source": [
    "\n",
    "# Sample DataFrame\n",
    "data = {\n",
    "    'city': ['Jacksonville', 'Jacksonville', 'Jacksonville', 'Jacksonville', 'Jacksonville',\n",
    "             'ElPaso', 'ElPaso', 'ElPaso', 'ElPaso', 'ElPaso'],\n",
    "    'month': ['January', 'February', 'March', 'April', 'May',\n",
    "              'January', 'February', 'March', 'April', 'May'],\n",
    "    'temperature': [13, 23, 38, 5, 34, 20, 6, 26, 2, 43]\n",
    "}\n",
    "\n",
    "weather = pd.DataFrame(data)\n",
    "\n",
    "# Pivot the DataFrame\n",
    "pivoted_weather = weather.pivot(index='month', columns='city', values='temperature')\n",
    "\n",
    "# Resetting the index to match the expected output format\n",
    "pivoted_weather = pivoted_weather.reset_index()\n",
    "\n",
    "# Display the result\n",
    "print(pivoted_weather)"
   ]
  },
  {
   "cell_type": "markdown",
   "metadata": {},
   "source": [
    "#### Reshape Data : Melt"
   ]
  },
  {
   "cell_type": "code",
   "execution_count": 51,
   "metadata": {},
   "outputs": [
    {
     "name": "stdout",
     "output_type": "stream",
     "text": [
      "       product    quarter  sales\n",
      "0     Umbrella  quarter_1    417\n",
      "1  SleepingBag  quarter_1    800\n",
      "2     Umbrella  quarter_2    224\n",
      "3  SleepingBag  quarter_2    936\n",
      "4     Umbrella  quarter_3    379\n",
      "5  SleepingBag  quarter_3     93\n",
      "6     Umbrella  quarter_4    611\n",
      "7  SleepingBag  quarter_4    875\n"
     ]
    }
   ],
   "source": [
    "# Sample DataFrame\n",
    "data = {\n",
    "    'product': ['Umbrella', 'SleepingBag'],\n",
    "    'quarter_1': [417, 800],\n",
    "    'quarter_2': [224, 936],\n",
    "    'quarter_3': [379, 93],\n",
    "    'quarter_4': [611, 875]\n",
    "}\n",
    "\n",
    "report = pd.DataFrame(data)\n",
    "\n",
    "# Reshaping the DataFrame using melt\n",
    "reshaped_report = pd.melt(report, id_vars=['product'], \n",
    "                          value_vars=['quarter_1', 'quarter_2', 'quarter_3', 'quarter_4'],\n",
    "                          var_name='quarter', value_name='sales')\n",
    "\n",
    "# Display the result\n",
    "print(reshaped_report)"
   ]
  },
  {
   "cell_type": "markdown",
   "metadata": {},
   "source": [
    "#### Method Chaining\n",
    "\n",
    "##### display the First_Name with salary more than 250000 and sort by descending"
   ]
  },
  {
   "cell_type": "code",
   "execution_count": 56,
   "metadata": {},
   "outputs": [
    {
     "name": "stdout",
     "output_type": "stream",
     "text": [
      "    First_Name\n",
      "644  Katherine\n",
      "429       Rose\n",
      "828    Cynthia\n",
      "186        NaN\n",
      "160      Kathy\n",
      "..         ...\n",
      "66       Nancy\n",
      "305   Margaret\n",
      "282       Carl\n",
      "503      Roger\n",
      "623      Irene\n",
      "\n",
      "[192 rows x 1 columns]\n"
     ]
    }
   ],
   "source": [
    "print(df[df['Salary'] > 250000].sort_values(by='Salary', ascending=False)[['First_Name']])"
   ]
  }
 ],
 "metadata": {
  "kernelspec": {
   "display_name": "Python 3",
   "language": "python",
   "name": "python3"
  },
  "language_info": {
   "codemirror_mode": {
    "name": "ipython",
    "version": 3
   },
   "file_extension": ".py",
   "mimetype": "text/x-python",
   "name": "python",
   "nbconvert_exporter": "python",
   "pygments_lexer": "ipython3",
   "version": "3.12.5"
  }
 },
 "nbformat": 4,
 "nbformat_minor": 2
}
